{
 "cells": [
  {
   "cell_type": "markdown",
   "id": "207bc665",
   "metadata": {},
   "source": [
    "## 0. Download dataset\n",
    "**Note:** If you can't download using gdown due to limited number of downloads, please download it manually and upload it to your drive, then copy it from the drive to colab.\n",
    "```python\n",
    "from google.colab import drive\n",
    "\n",
    "drive.mount('/content/drive')\n",
    "!cp /path/to/dataset/on/your/drive .\n",
    "```"
   ]
  },
  {
   "cell_type": "code",
   "execution_count": null,
   "id": "631a7fa8",
   "metadata": {},
   "outputs": [],
   "source": [
    "# https://drive.google.com/file/d/1o09HEkDBBEjsW3gN76vDYfCAKiCqpcpg/view?usp=share_link\n",
    "!gdown --id 1o09HEkDBBEjsW3gN76vDYfCAKiCqpcpg"
   ]
  },
  {
   "cell_type": "markdown",
   "id": "138a5a26",
   "metadata": {},
   "source": [
    "## 1. Import libraries"
   ]
  },
  {
   "cell_type": "code",
   "execution_count": 1,
   "id": "5eefab75",
   "metadata": {},
   "outputs": [
    {
     "name": "stderr",
     "output_type": "stream",
     "text": [
      "[nltk_data] Downloading package stopwords to\n",
      "[nltk_data]     /home/aivn12s1/nltk_data...\n",
      "[nltk_data]   Package stopwords is already up-to-date!\n"
     ]
    }
   ],
   "source": [
    "import torch\n",
    "import torch.nn as nn\n",
    "\n",
    "seed = 1\n",
    "torch.manual_seed(seed)\n",
    "\n",
    "import os\n",
    "import numpy as np\n",
    "import pandas as pd\n",
    "import matplotlib.pyplot as plt\n",
    "import re\n",
    "import nltk\n",
    "import unidecode\n",
    "\n",
    "nltk.download('stopwords')\n",
    "from nltk.corpus import stopwords\n",
    "from nltk.stem.porter import PorterStemmer\n",
    "\n",
    "from torch.utils.data import Dataset, DataLoader\n",
    "from sklearn.model_selection import train_test_split"
   ]
  },
  {
   "cell_type": "markdown",
   "id": "2c44e3cb",
   "metadata": {},
   "source": [
    "## 2. Read dataset"
   ]
  },
  {
   "cell_type": "code",
   "execution_count": 2,
   "id": "0d4f054a",
   "metadata": {
    "scrolled": false
   },
   "outputs": [
    {
     "data": {
      "text/html": [
       "<div>\n",
       "<style scoped>\n",
       "    .dataframe tbody tr th:only-of-type {\n",
       "        vertical-align: middle;\n",
       "    }\n",
       "\n",
       "    .dataframe tbody tr th {\n",
       "        vertical-align: top;\n",
       "    }\n",
       "\n",
       "    .dataframe thead th {\n",
       "        text-align: right;\n",
       "    }\n",
       "</style>\n",
       "<table border=\"1\" class=\"dataframe\">\n",
       "  <thead>\n",
       "    <tr style=\"text-align: right;\">\n",
       "      <th></th>\n",
       "      <th>sentiment</th>\n",
       "      <th>content</th>\n",
       "    </tr>\n",
       "  </thead>\n",
       "  <tbody>\n",
       "    <tr>\n",
       "      <th>0</th>\n",
       "      <td>neutral</td>\n",
       "      <td>According to Gran , the company has no plans t...</td>\n",
       "    </tr>\n",
       "    <tr>\n",
       "      <th>1</th>\n",
       "      <td>neutral</td>\n",
       "      <td>Technopolis plans to develop in stages an area...</td>\n",
       "    </tr>\n",
       "    <tr>\n",
       "      <th>2</th>\n",
       "      <td>negative</td>\n",
       "      <td>The international electronic industry company ...</td>\n",
       "    </tr>\n",
       "    <tr>\n",
       "      <th>3</th>\n",
       "      <td>positive</td>\n",
       "      <td>With the new production plant the company woul...</td>\n",
       "    </tr>\n",
       "    <tr>\n",
       "      <th>4</th>\n",
       "      <td>positive</td>\n",
       "      <td>According to the company 's updated strategy f...</td>\n",
       "    </tr>\n",
       "    <tr>\n",
       "      <th>...</th>\n",
       "      <td>...</td>\n",
       "      <td>...</td>\n",
       "    </tr>\n",
       "    <tr>\n",
       "      <th>4841</th>\n",
       "      <td>negative</td>\n",
       "      <td>LONDON MarketWatch -- Share prices ended lower...</td>\n",
       "    </tr>\n",
       "    <tr>\n",
       "      <th>4842</th>\n",
       "      <td>neutral</td>\n",
       "      <td>Rinkuskiai 's beer sales fell by 6.5 per cent ...</td>\n",
       "    </tr>\n",
       "    <tr>\n",
       "      <th>4843</th>\n",
       "      <td>negative</td>\n",
       "      <td>Operating profit fell to EUR 35.4 mn from EUR ...</td>\n",
       "    </tr>\n",
       "    <tr>\n",
       "      <th>4844</th>\n",
       "      <td>negative</td>\n",
       "      <td>Net sales of the Paper segment decreased to EU...</td>\n",
       "    </tr>\n",
       "    <tr>\n",
       "      <th>4845</th>\n",
       "      <td>negative</td>\n",
       "      <td>Sales in Finland decreased by 10.5 % in Januar...</td>\n",
       "    </tr>\n",
       "  </tbody>\n",
       "</table>\n",
       "<p>4846 rows × 2 columns</p>\n",
       "</div>"
      ],
      "text/plain": [
       "     sentiment                                            content\n",
       "0      neutral  According to Gran , the company has no plans t...\n",
       "1      neutral  Technopolis plans to develop in stages an area...\n",
       "2     negative  The international electronic industry company ...\n",
       "3     positive  With the new production plant the company woul...\n",
       "4     positive  According to the company 's updated strategy f...\n",
       "...        ...                                                ...\n",
       "4841  negative  LONDON MarketWatch -- Share prices ended lower...\n",
       "4842   neutral  Rinkuskiai 's beer sales fell by 6.5 per cent ...\n",
       "4843  negative  Operating profit fell to EUR 35.4 mn from EUR ...\n",
       "4844  negative  Net sales of the Paper segment decreased to EU...\n",
       "4845  negative  Sales in Finland decreased by 10.5 % in Januar...\n",
       "\n",
       "[4846 rows x 2 columns]"
      ]
     },
     "execution_count": 2,
     "metadata": {},
     "output_type": "execute_result"
    }
   ],
   "source": [
    "dataset_path = 'dataset/all-data.csv'\n",
    "headers = ['sentiment', 'content']\n",
    "df = pd.read_csv(\n",
    "    dataset_path, \n",
    "    names=headers,\n",
    "    encoding='ISO-8859-1'\n",
    ")\n",
    "df"
   ]
  },
  {
   "cell_type": "code",
   "execution_count": 12,
   "id": "7722ed65",
   "metadata": {
    "scrolled": true
   },
   "outputs": [
    {
     "data": {
      "text/html": [
       "<div>\n",
       "<style scoped>\n",
       "    .dataframe tbody tr th:only-of-type {\n",
       "        vertical-align: middle;\n",
       "    }\n",
       "\n",
       "    .dataframe tbody tr th {\n",
       "        vertical-align: top;\n",
       "    }\n",
       "\n",
       "    .dataframe thead th {\n",
       "        text-align: right;\n",
       "    }\n",
       "</style>\n",
       "<table border=\"1\" class=\"dataframe\">\n",
       "  <thead>\n",
       "    <tr style=\"text-align: right;\">\n",
       "      <th></th>\n",
       "      <th>sentiment</th>\n",
       "      <th>content</th>\n",
       "    </tr>\n",
       "  </thead>\n",
       "  <tbody>\n",
       "    <tr>\n",
       "      <th>0</th>\n",
       "      <td>0</td>\n",
       "      <td>accord gran  compani plan move product russia ...</td>\n",
       "    </tr>\n",
       "    <tr>\n",
       "      <th>1</th>\n",
       "      <td>0</td>\n",
       "      <td>technopoli plan develop stage area less 100000...</td>\n",
       "    </tr>\n",
       "    <tr>\n",
       "      <th>2</th>\n",
       "      <td>1</td>\n",
       "      <td>intern electron industri compani elcoteq laid ...</td>\n",
       "    </tr>\n",
       "    <tr>\n",
       "      <th>3</th>\n",
       "      <td>2</td>\n",
       "      <td>new product plant compani would increas capac ...</td>\n",
       "    </tr>\n",
       "    <tr>\n",
       "      <th>4</th>\n",
       "      <td>2</td>\n",
       "      <td>accord compani updat strategi year 20092012  b...</td>\n",
       "    </tr>\n",
       "    <tr>\n",
       "      <th>...</th>\n",
       "      <td>...</td>\n",
       "      <td>...</td>\n",
       "    </tr>\n",
       "    <tr>\n",
       "      <th>4841</th>\n",
       "      <td>1</td>\n",
       "      <td>london marketwatch  share price end lower lond...</td>\n",
       "    </tr>\n",
       "    <tr>\n",
       "      <th>4842</th>\n",
       "      <td>0</td>\n",
       "      <td>rinkuskiai beer sale fell 65 per cent 416 mill...</td>\n",
       "    </tr>\n",
       "    <tr>\n",
       "      <th>4843</th>\n",
       "      <td>1</td>\n",
       "      <td>oper profit fell eur 354 mn eur 688 mn 2007  i...</td>\n",
       "    </tr>\n",
       "    <tr>\n",
       "      <th>4844</th>\n",
       "      <td>1</td>\n",
       "      <td>net sale paper segment decreas eur 2216 mn sec...</td>\n",
       "    </tr>\n",
       "    <tr>\n",
       "      <th>4845</th>\n",
       "      <td>1</td>\n",
       "      <td>sale finland decreas 105  januari  sale outsid...</td>\n",
       "    </tr>\n",
       "  </tbody>\n",
       "</table>\n",
       "<p>4846 rows × 2 columns</p>\n",
       "</div>"
      ],
      "text/plain": [
       "      sentiment                                            content\n",
       "0             0  accord gran  compani plan move product russia ...\n",
       "1             0  technopoli plan develop stage area less 100000...\n",
       "2             1  intern electron industri compani elcoteq laid ...\n",
       "3             2  new product plant compani would increas capac ...\n",
       "4             2  accord compani updat strategi year 20092012  b...\n",
       "...         ...                                                ...\n",
       "4841          1  london marketwatch  share price end lower lond...\n",
       "4842          0  rinkuskiai beer sale fell 65 per cent 416 mill...\n",
       "4843          1  oper profit fell eur 354 mn eur 688 mn 2007  i...\n",
       "4844          1  net sale paper segment decreas eur 2216 mn sec...\n",
       "4845          1  sale finland decreas 105  januari  sale outsid...\n",
       "\n",
       "[4846 rows x 2 columns]"
      ]
     },
     "execution_count": 12,
     "metadata": {},
     "output_type": "execute_result"
    }
   ],
   "source": [
    "classes = {\n",
    "    class_name: idx for idx, class_name in enumerate(df['sentiment'].unique().tolist())\n",
    "}\n",
    "df['sentiment'] = df['sentiment'].apply(lambda x: classes[x])\n",
    "df"
   ]
  },
  {
   "cell_type": "markdown",
   "id": "a94cee77",
   "metadata": {},
   "source": [
    "## 3. Data preprocessing"
   ]
  },
  {
   "cell_type": "code",
   "execution_count": 13,
   "id": "c2b2e79d",
   "metadata": {},
   "outputs": [],
   "source": [
    "english_stop_words = stopwords.words('english') \n",
    "stemmer = PorterStemmer() \n",
    "\n",
    "def text_normalize(text):\n",
    "    text = text.lower() \n",
    "    text = unidecode.unidecode(text) \n",
    "    text = text.strip() \n",
    "    text = re.sub(r'[^\\w\\s]', '', text) \n",
    "    text = ' '.join([word for word in text.split(' ') if word not in english_stop_words]) \n",
    "    text = ' '.join([stemmer.stem(word) for word in text.split(' ')]) \n",
    " \n",
    "    return text"
   ]
  },
  {
   "cell_type": "code",
   "execution_count": 14,
   "id": "98c0df50",
   "metadata": {},
   "outputs": [],
   "source": [
    "df['content'] = df['content'].apply(lambda x: text_normalize(x))"
   ]
  },
  {
   "cell_type": "code",
   "execution_count": 15,
   "id": "a6f45364",
   "metadata": {},
   "outputs": [],
   "source": [
    "vocab = []\n",
    "for sentence in df['content'].tolist():\n",
    "    tokens = sentence.split()\n",
    "    for token in tokens:\n",
    "        if token not in vocab:\n",
    "            vocab.append(token)\n",
    "            \n",
    "vocab.append('UNK')\n",
    "vocab.append('PAD')\n",
    "word_to_idx = {word: idx for idx, word in enumerate(vocab)}\n",
    "vocab_size = len(vocab)"
   ]
  },
  {
   "cell_type": "code",
   "execution_count": 16,
   "id": "64e0a471",
   "metadata": {},
   "outputs": [],
   "source": [
    "def transform(text, word_to_idx, max_seq_len):\n",
    "    tokens = []\n",
    "    for w in text.split():\n",
    "        try:\n",
    "            w_ids = word_to_idx[w]\n",
    "        except:\n",
    "            w_ids = word_to_idx['UNK']\n",
    "        tokens.append(w_ids)\n",
    "        \n",
    "    if len(tokens) < max_seq_len:\n",
    "        tokens += [word_to_idx['PAD']] * (max_seq_len - len(tokens))\n",
    "    elif len(tokens) > max_seq_len:\n",
    "        tokens = tokens[:max_seq_len]\n",
    "    \n",
    "    return tokens"
   ]
  },
  {
   "cell_type": "markdown",
   "id": "a443009e",
   "metadata": {},
   "source": [
    "## 4. Train, val, test split"
   ]
  },
  {
   "cell_type": "code",
   "execution_count": 17,
   "id": "08f3446b",
   "metadata": {},
   "outputs": [],
   "source": [
    "val_size = 0.2\n",
    "test_size = 0.125\n",
    "is_shuffle = True\n",
    "texts = df['content'].tolist()\n",
    "labels = df['sentiment'].tolist()\n",
    "\n",
    "X_train, X_val, y_train, y_val = train_test_split(\n",
    "    texts, labels,\n",
    "    test_size=val_size,\n",
    "    random_state=seed,\n",
    "    shuffle=is_shuffle\n",
    ")\n",
    "\n",
    "X_train, X_test, y_train, y_test = train_test_split(\n",
    "    X_train, y_train,\n",
    "    test_size=val_size,\n",
    "    random_state=seed,\n",
    "    shuffle=is_shuffle\n",
    ")"
   ]
  },
  {
   "cell_type": "markdown",
   "id": "e44f15c3",
   "metadata": {},
   "source": [
    "## 5. Implement PyTorch dataset"
   ]
  },
  {
   "cell_type": "code",
   "execution_count": 18,
   "id": "9941afd8",
   "metadata": {},
   "outputs": [],
   "source": [
    "class FinancialNews(Dataset):\n",
    "    def __init__(\n",
    "        self,\n",
    "        X, y,\n",
    "        word_to_idx,\n",
    "        max_seq_len,\n",
    "        transform=None\n",
    "    ):\n",
    "        self.texts = X\n",
    "        self.labels = y\n",
    "        self.word_to_idx = word_to_idx\n",
    "        self.max_seq_len = max_seq_len\n",
    "        self.transform = transform\n",
    "        \n",
    "    def __len__(self):\n",
    "        return len(self.texts)\n",
    "    \n",
    "    def __getitem__(self, idx):\n",
    "        text = self.texts[idx]\n",
    "        label = self.labels[idx]\n",
    "        \n",
    "        if self.transform:\n",
    "            text = self.transform(\n",
    "                text, \n",
    "                self.word_to_idx, \n",
    "                self.max_seq_len\n",
    "            )\n",
    "        text = torch.tensor(text)\n",
    "        \n",
    "        return text, label"
   ]
  },
  {
   "cell_type": "markdown",
   "id": "35746976",
   "metadata": {},
   "source": [
    "## 6. Create dataloader"
   ]
  },
  {
   "cell_type": "code",
   "execution_count": 19,
   "id": "462de074",
   "metadata": {},
   "outputs": [],
   "source": [
    "max_seq_len = 32\n",
    "\n",
    "train_dataset = FinancialNews(\n",
    "    X_train, y_train,\n",
    "    word_to_idx=word_to_idx,\n",
    "    max_seq_len=max_seq_len,\n",
    "    transform=transform\n",
    ")\n",
    "val_dataset = FinancialNews(\n",
    "    X_val, y_val,\n",
    "    word_to_idx=word_to_idx,\n",
    "    max_seq_len=max_seq_len,\n",
    "    transform=transform\n",
    ")\n",
    "test_dataset = FinancialNews(\n",
    "    X_test, y_test,\n",
    "    word_to_idx=word_to_idx,\n",
    "    max_seq_len=max_seq_len,\n",
    "    transform=transform\n",
    ")"
   ]
  },
  {
   "cell_type": "code",
   "execution_count": 120,
   "id": "8fd30115",
   "metadata": {},
   "outputs": [],
   "source": [
    "train_batch_size = 128\n",
    "test_batch_size = 8\n",
    "\n",
    "train_loader = DataLoader(\n",
    "    train_dataset,\n",
    "    batch_size=train_batch_size,\n",
    "    shuffle=True\n",
    ")\n",
    "val_loader = DataLoader(\n",
    "    val_dataset,\n",
    "    batch_size=test_batch_size,\n",
    "    shuffle=False\n",
    ")\n",
    "test_loader = DataLoader(\n",
    "    test_dataset,\n",
    "    batch_size=test_batch_size,\n",
    "    shuffle=False\n",
    ")"
   ]
  },
  {
   "cell_type": "markdown",
   "id": "c4275555",
   "metadata": {},
   "source": [
    "## 7. Implement model"
   ]
  },
  {
   "cell_type": "code",
   "execution_count": 121,
   "id": "9ce5bfca",
   "metadata": {},
   "outputs": [],
   "source": [
    "class SentimentClassifier(nn.Module):\n",
    "    def __init__(\n",
    "        self, vocab_size, embedding_dim, \n",
    "        hidden_size, n_layers, n_classes,\n",
    "        dropout_prob\n",
    "    ):\n",
    "        super(SentimentClassifier, self).__init__()\n",
    "        self.embedding = nn.Embedding(vocab_size, embedding_dim)\n",
    "        self.lstm = nn.LSTM(embedding_dim, hidden_size, n_layers, batch_first=True)\n",
    "        self.norm = nn.LayerNorm(hidden_size) \n",
    "        self.dropout = nn.Dropout(dropout_prob) \n",
    "        self.fc1 = nn.Linear(hidden_size, 16)\n",
    "        self.relu = nn.ReLU()\n",
    "        self.fc2 = nn.Linear(16, n_classes)\n",
    "    \n",
    "    def forward(self, x):\n",
    "        x = self.embedding(x)\n",
    "        x, (hn, cn) = self.lstm(x)\n",
    "        x = x[:, -1, :] \n",
    "        x = self.norm(x)\n",
    "        x = self.dropout(x)\n",
    "        x = self.fc1(x)\n",
    "        x = self.relu(x)\n",
    "        x = self.dropout(x)\n",
    "        x = self.fc2(x)\n",
    "        \n",
    "        return x"
   ]
  },
  {
   "cell_type": "code",
   "execution_count": 122,
   "id": "3eb16c39",
   "metadata": {},
   "outputs": [],
   "source": [
    "n_classes = len(list(classes.keys()))\n",
    "embedding_dim = 64\n",
    "hidden_size = 64\n",
    "n_layers = 2\n",
    "dropout_prob = 0.2\n",
    "device = 'cuda' if torch.cuda.is_available() else 'cpu'\n",
    "\n",
    "model = SentimentClassifier(\n",
    "    vocab_size=vocab_size,\n",
    "    embedding_dim=embedding_dim,\n",
    "    hidden_size=hidden_size,\n",
    "    n_layers=n_layers,\n",
    "    n_classes=n_classes,\n",
    "    dropout_prob=dropout_prob\n",
    ").to(device)"
   ]
  },
  {
   "cell_type": "code",
   "execution_count": 123,
   "id": "892152b6",
   "metadata": {},
   "outputs": [
    {
     "name": "stdout",
     "output_type": "stream",
     "text": [
      "Output shape: torch.Size([1, 3])\n"
     ]
    }
   ],
   "source": [
    "model.eval()\n",
    "\n",
    "dummy_tensor = torch.randint(10, (1, 10)).to(device)\n",
    "\n",
    "with torch.no_grad():\n",
    "    output = model(dummy_tensor)\n",
    "\n",
    "print('Output shape:', output.shape)"
   ]
  },
  {
   "cell_type": "markdown",
   "id": "f1e9597f",
   "metadata": {},
   "source": [
    "## 8. Training "
   ]
  },
  {
   "cell_type": "code",
   "execution_count": 124,
   "id": "682d2073",
   "metadata": {},
   "outputs": [],
   "source": [
    "def evaluate(model, dataloader, criterion, device):\n",
    "    model.eval()\n",
    "    correct = 0\n",
    "    total = 0\n",
    "    losses = []\n",
    "    with torch.no_grad():\n",
    "        for inputs, labels in dataloader:\n",
    "            inputs, labels = inputs.to(device), labels.to(device)\n",
    "            outputs = model(inputs)\n",
    "            loss = criterion(outputs, labels)\n",
    "            losses.append(loss.item())\n",
    "            _, predicted = torch.max(outputs.data, 1)\n",
    "            total += labels.size(0)\n",
    "            correct += (predicted == labels).sum().item()\n",
    "\n",
    "    loss = sum(losses) / len(losses)\n",
    "    acc = correct / total\n",
    "\n",
    "    return loss, acc"
   ]
  },
  {
   "cell_type": "code",
   "execution_count": 125,
   "id": "81145eec",
   "metadata": {},
   "outputs": [],
   "source": [
    "def fit(\n",
    "    model,\n",
    "    train_loader,\n",
    "    val_loader,\n",
    "    criterion,\n",
    "    optimizer,\n",
    "    device,\n",
    "    epochs\n",
    "):\n",
    "    train_losses = []\n",
    "    val_losses = []\n",
    "\n",
    "    for epoch in range(epochs):\n",
    "        batch_train_losses = []\n",
    "\n",
    "        model.train()\n",
    "        for idx, (inputs, labels) in enumerate(train_loader):\n",
    "            inputs, labels = inputs.to(device), labels.to(device)\n",
    "\n",
    "            optimizer.zero_grad()\n",
    "            outputs = model(inputs)\n",
    "            loss = criterion(outputs, labels)\n",
    "            loss.backward()\n",
    "            optimizer.step()\n",
    "\n",
    "            batch_train_losses.append(loss.item())\n",
    "\n",
    "        train_loss = sum(batch_train_losses) / len(batch_train_losses)\n",
    "        train_losses.append(train_loss)\n",
    "\n",
    "        val_loss, val_acc = evaluate(\n",
    "            model, val_loader,\n",
    "            criterion, device\n",
    "        )\n",
    "        val_losses.append(val_loss)\n",
    "\n",
    "        print(f'EPOCH {epoch + 1}:\\tTrain loss: {train_loss:.4f}\\tVal loss: {val_loss:.4f}')\n",
    "\n",
    "    return train_losses, val_losses"
   ]
  },
  {
   "cell_type": "code",
   "execution_count": 126,
   "id": "a80115e1",
   "metadata": {},
   "outputs": [],
   "source": [
    "lr = 1e-4\n",
    "epochs = 50\n",
    "\n",
    "criterion = nn.CrossEntropyLoss()\n",
    "optimizer = torch.optim.Adam(\n",
    "    model.parameters(),\n",
    "    lr=lr\n",
    ")"
   ]
  },
  {
   "cell_type": "code",
   "execution_count": 127,
   "id": "3558ed3f",
   "metadata": {
    "scrolled": false
   },
   "outputs": [
    {
     "name": "stdout",
     "output_type": "stream",
     "text": [
      "EPOCH 1:\tTrain loss: 1.0535\tVal loss: 0.9466\n",
      "EPOCH 2:\tTrain loss: 0.9514\tVal loss: 0.9276\n",
      "EPOCH 3:\tTrain loss: 0.9406\tVal loss: 0.9273\n",
      "EPOCH 4:\tTrain loss: 0.9511\tVal loss: 0.9287\n",
      "EPOCH 5:\tTrain loss: 0.9466\tVal loss: 0.9282\n",
      "EPOCH 6:\tTrain loss: 0.9459\tVal loss: 0.9275\n",
      "EPOCH 7:\tTrain loss: 0.9465\tVal loss: 0.9293\n",
      "EPOCH 8:\tTrain loss: 0.9407\tVal loss: 0.9268\n",
      "EPOCH 9:\tTrain loss: 0.9505\tVal loss: 0.9288\n",
      "EPOCH 10:\tTrain loss: 0.9486\tVal loss: 0.9271\n",
      "EPOCH 11:\tTrain loss: 0.9474\tVal loss: 0.9270\n",
      "EPOCH 12:\tTrain loss: 0.9366\tVal loss: 0.9277\n",
      "EPOCH 13:\tTrain loss: 0.9432\tVal loss: 0.9264\n",
      "EPOCH 14:\tTrain loss: 0.9415\tVal loss: 0.9262\n",
      "EPOCH 15:\tTrain loss: 0.9439\tVal loss: 0.9273\n",
      "EPOCH 16:\tTrain loss: 0.9480\tVal loss: 0.9253\n",
      "EPOCH 17:\tTrain loss: 0.9410\tVal loss: 0.9256\n",
      "EPOCH 18:\tTrain loss: 0.9333\tVal loss: 0.9254\n",
      "EPOCH 19:\tTrain loss: 0.9360\tVal loss: 0.9250\n",
      "EPOCH 20:\tTrain loss: 0.9404\tVal loss: 0.9252\n",
      "EPOCH 21:\tTrain loss: 0.9374\tVal loss: 0.9235\n",
      "EPOCH 22:\tTrain loss: 0.9437\tVal loss: 0.9290\n",
      "EPOCH 23:\tTrain loss: 0.9377\tVal loss: 0.9211\n",
      "EPOCH 24:\tTrain loss: 0.9328\tVal loss: 0.9182\n",
      "EPOCH 25:\tTrain loss: 0.9274\tVal loss: 0.9090\n",
      "EPOCH 26:\tTrain loss: 0.9127\tVal loss: 0.8959\n",
      "EPOCH 27:\tTrain loss: 0.9168\tVal loss: 0.8951\n",
      "EPOCH 28:\tTrain loss: 0.8957\tVal loss: 0.9136\n",
      "EPOCH 29:\tTrain loss: 0.8909\tVal loss: 0.8864\n",
      "EPOCH 30:\tTrain loss: 0.8698\tVal loss: 0.8864\n",
      "EPOCH 31:\tTrain loss: 0.8657\tVal loss: 0.8815\n",
      "EPOCH 32:\tTrain loss: 0.8674\tVal loss: 0.9233\n",
      "EPOCH 33:\tTrain loss: 0.8606\tVal loss: 0.8788\n",
      "EPOCH 34:\tTrain loss: 0.8605\tVal loss: 0.8907\n",
      "EPOCH 35:\tTrain loss: 0.8580\tVal loss: 0.8763\n",
      "EPOCH 36:\tTrain loss: 0.8486\tVal loss: 0.8876\n",
      "EPOCH 37:\tTrain loss: 0.8367\tVal loss: 0.8754\n",
      "EPOCH 38:\tTrain loss: 0.8357\tVal loss: 0.8855\n",
      "EPOCH 39:\tTrain loss: 0.8260\tVal loss: 0.8804\n",
      "EPOCH 40:\tTrain loss: 0.8336\tVal loss: 0.8713\n",
      "EPOCH 41:\tTrain loss: 0.8197\tVal loss: 0.8833\n",
      "EPOCH 42:\tTrain loss: 0.8202\tVal loss: 0.8683\n",
      "EPOCH 43:\tTrain loss: 0.8148\tVal loss: 0.8810\n",
      "EPOCH 44:\tTrain loss: 0.8159\tVal loss: 0.8938\n",
      "EPOCH 45:\tTrain loss: 0.8038\tVal loss: 0.8754\n",
      "EPOCH 46:\tTrain loss: 0.7972\tVal loss: 0.9016\n",
      "EPOCH 47:\tTrain loss: 0.7849\tVal loss: 0.8833\n",
      "EPOCH 48:\tTrain loss: 0.7870\tVal loss: 0.8754\n",
      "EPOCH 49:\tTrain loss: 0.7909\tVal loss: 0.8942\n",
      "EPOCH 50:\tTrain loss: 0.7765\tVal loss: 0.8879\n"
     ]
    }
   ],
   "source": [
    "train_losses, val_losses = fit(\n",
    "    model,\n",
    "    train_loader,\n",
    "    val_loader,\n",
    "    criterion,\n",
    "    optimizer,\n",
    "    device,\n",
    "    epochs\n",
    ")"
   ]
  },
  {
   "cell_type": "code",
   "execution_count": 128,
   "id": "866ac448",
   "metadata": {},
   "outputs": [
    {
     "data": {
      "image/png": "[encoded data removed]",
      "text/plain": [
       "<Figure size 1200x500 with 2 Axes>"
      ]
     },
     "metadata": {},
     "output_type": "display_data"
    }
   ],
   "source": [
    "fig, ax = plt.subplots(1, 2, figsize=(12, 5))\n",
    "ax[0].plot(train_losses)\n",
    "ax[0].set_title('Training Loss')\n",
    "ax[0].set_xlabel('Epoch')\n",
    "ax[0].set_ylabel('Loss')\n",
    "ax[1].plot(val_losses, color='orange')\n",
    "ax[1].set_title('Val Loss')\n",
    "ax[1].set_xlabel('Epoch')\n",
    "ax[1].set_ylabel('Loss')\n",
    "plt.show()"
   ]
  },
  {
   "cell_type": "markdown",
   "id": "5cbf04f6",
   "metadata": {},
   "source": [
    "## 9. Evaluation"
   ]
  },
  {
   "cell_type": "code",
   "execution_count": 129,
   "id": "e0a2d0fe",
   "metadata": {},
   "outputs": [
    {
     "name": "stdout",
     "output_type": "stream",
     "text": [
      "Evaluation on val/test dataset\n",
      "Val accuracy:  0.622680412371134\n",
      "Test accuracy:  0.6327319587628866\n"
     ]
    }
   ],
   "source": [
    "val_loss, val_acc = evaluate(\n",
    "    model,\n",
    "    val_loader,\n",
    "    criterion,\n",
    "    device\n",
    ")\n",
    "test_loss, test_acc = evaluate(\n",
    "    model,\n",
    "    test_loader,\n",
    "    criterion,\n",
    "    device\n",
    ")\n",
    "\n",
    "print('Evaluation on val/test dataset')\n",
    "print('Val accuracy: ', val_acc)\n",
    "print('Test accuracy: ', test_acc)"
   ]
  }
 ],
 "metadata": {
  "kernelspec": {
   "display_name": "Python [conda env:thangdd_env] *",
   "language": "python",
   "name": "conda-env-thangdd_env-py"
  },
  "language_info": {
   "codemirror_mode": {
    "name": "ipython",
    "version": 3
   },
   "file_extension": ".py",
   "mimetype": "text/x-python",
   "name": "python",
   "nbconvert_exporter": "python",
   "pygments_lexer": "ipython3",
   "version": "3.11.5"
  }
 },
 "nbformat": 4,
 "nbformat_minor": 5
}
